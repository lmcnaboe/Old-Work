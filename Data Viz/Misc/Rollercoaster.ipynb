{
 "cells": [
  {
   "cell_type": "code",
   "execution_count": 20,
   "id": "f53cab61",
   "metadata": {},
   "outputs": [
    {
     "ename": "SyntaxError",
     "evalue": "invalid syntax (1455169550.py, line 17)",
     "output_type": "error",
     "traceback": [
      "\u001b[1;36m  Input \u001b[1;32mIn [20]\u001b[1;36m\u001b[0m\n\u001b[1;33m    if (lst[num] + next(lst[num]) > 5:\u001b[0m\n\u001b[1;37m                                     ^\u001b[0m\n\u001b[1;31mSyntaxError\u001b[0m\u001b[1;31m:\u001b[0m invalid syntax\n"
     ]
    }
   ],
   "source": [
    "shark_cost = 2000\n",
    "lst = []\n",
    "done = False\n",
    "cost = 0\n",
    "while done != True:\n",
    "    g = int(input('Please enter the size of your group, not exceding 5: '))\n",
    "    if g > 5:\n",
    "        print('Group is too big')\n",
    "    else:\n",
    "        lst.append(g)\n",
    "        y_or_n = input('Would you like to add more groups? ')\n",
    "        if y_or_n == 'yes':\n",
    "            continue\n",
    "        else:\n",
    "            done = not done\n",
    "for num in range(len(lst)):\n",
    "    if (lst[num] + lst[num + 1]) > 5:\n",
    "        cost = lst[num] * 3\n",
    "    else:\n",
    "        one_n_two = lst[num] + lst[num + 1]\n",
    "        if one_n_two + lst[num + 2] > 5:\n",
    "            total = one_n_two * 3\n",
    "        else:\n",
    "            break"
   ]
  },
  {
   "cell_type": "code",
   "execution_count": null,
   "id": "bc3531b4",
   "metadata": {},
   "outputs": [],
   "source": []
  }
 ],
 "metadata": {
  "kernelspec": {
   "display_name": "Python 3 (ipykernel)",
   "language": "python",
   "name": "python3"
  },
  "language_info": {
   "codemirror_mode": {
    "name": "ipython",
    "version": 3
   },
   "file_extension": ".py",
   "mimetype": "text/x-python",
   "name": "python",
   "nbconvert_exporter": "python",
   "pygments_lexer": "ipython3",
   "version": "3.9.12"
  }
 },
 "nbformat": 4,
 "nbformat_minor": 5
}
