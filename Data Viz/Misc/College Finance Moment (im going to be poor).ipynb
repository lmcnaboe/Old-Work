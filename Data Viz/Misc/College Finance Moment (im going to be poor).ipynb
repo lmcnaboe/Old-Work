{
 "cells": [
  {
   "cell_type": "code",
   "execution_count": 25,
   "id": "6c66fb30",
   "metadata": {},
   "outputs": [
    {
     "name": "stdout",
     "output_type": "stream",
     "text": [
      "Enter the amount of money you will borrow: 231984\n",
      "Enter your annual interest rate: 6.58\n",
      "Enter the number of years you will borrow your money for: 15\n",
      "365588.3\n"
     ]
    }
   ],
   "source": [
    "p = float(input('Enter the amount of money you will borrow: '))\n",
    "r = float(input('Enter your annual interest rate: '))\n",
    "n = int(input('Enter the number of years you will borrow your money for: '))\n",
    "\n",
    "r_month = (r / 100) /12\n",
    "n_month = n * 12\n",
    "\n",
    "num = p * r_month\n",
    "denom = 1 - (1 + r_month)**(-1 * n_month)\n",
    "a = (num / denom) * n_month\n",
    "print(round(a, 2))"
   ]
  },
  {
   "cell_type": "code",
   "execution_count": null,
   "id": "ec6f228a",
   "metadata": {},
   "outputs": [],
   "source": []
  }
 ],
 "metadata": {
  "kernelspec": {
   "display_name": "Python 3 (ipykernel)",
   "language": "python",
   "name": "python3"
  },
  "language_info": {
   "codemirror_mode": {
    "name": "ipython",
    "version": 3
   },
   "file_extension": ".py",
   "mimetype": "text/x-python",
   "name": "python",
   "nbconvert_exporter": "python",
   "pygments_lexer": "ipython3",
   "version": "3.9.12"
  }
 },
 "nbformat": 4,
 "nbformat_minor": 5
}
