{
 "cells": [
  {
   "cell_type": "code",
   "execution_count": null,
   "id": "cf98757d",
   "metadata": {},
   "outputs": [],
   "source": [
    "day = int(input('Please enter the day: '))\n",
    "mon = int(input('Please enter the month: '))\n",
    "year = int(input('Please enter the year: '))\n",
    "year0 = year - (14-mon) / 12\n",
    "x = year0 + year0 / 4 - year0 / 100 + year0 / 400\n",
    "month0 = mon + 12 * ((14-mon))"
   ]
  }
 ],
 "metadata": {
  "kernelspec": {
   "display_name": "Python 3 (ipykernel)",
   "language": "python",
   "name": "python3"
  },
  "language_info": {
   "codemirror_mode": {
    "name": "ipython",
    "version": 3
   },
   "file_extension": ".py",
   "mimetype": "text/x-python",
   "name": "python",
   "nbconvert_exporter": "python",
   "pygments_lexer": "ipython3",
   "version": "3.9.12"
  }
 },
 "nbformat": 4,
 "nbformat_minor": 5
}
