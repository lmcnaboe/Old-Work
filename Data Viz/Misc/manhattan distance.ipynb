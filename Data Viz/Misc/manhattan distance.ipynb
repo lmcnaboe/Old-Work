{
 "cells": [
  {
   "cell_type": "code",
   "execution_count": 26,
   "id": "6fb347d9",
   "metadata": {},
   "outputs": [],
   "source": [
    "directions = [\"L3\", \"R1\", \"L4\", \"L1\", \"L2\", \"R4\", \"L3\", \"L3\", \"R2\", \"R3\", \"L5\", \"R1\", \"R3\", \"L4\", \"L1\", \"L2\", \"R2\", \"R1\", \"L4\", \"L4\", \"R2\", \"L5\", \"R3\", \"R2\", \"R1\", \"L1\", \"L2\", \"R2\",\n",
    "        \"R2\", \"L1\", \"L1\", \"R2\", \"R1\", \"L3\", \"L5\", \"R4\", \"L3\", \"R3\", \"R3\", \"L5\", \"L190\", \"L4\", \"R4\", \"R51\", \"L4\", \"R5\", \"R5\", \"R2\", \"L1\", \"L3\", \"R1\", \"R4\", \"L3\", \"R1\", \"R3\",\n",
    "        \"L5\", \"L4\", \"R2\", \"R5\", \"R2\", \"L1\", \"L5\", \"L1\", \"L1\", \"R78\", \"L3\", \"R2\", \"L3\", \"R5\", \"L2\", \"R2\", \"R4\", \"L1\", \"L4\", \"R1\", \"R185\", \"R3\", \"L4\", \"L1\", \"L1\", \"L3\", \"R4\",\n",
    "        \"L4\", \"L1\", \"R5\", \"L5\", \"L1\", \"R5\", \"L1\", \"R2\", \"L5\", \"L2\", \"R4\", \"R3\", \"L2\", \"R3\", \"R1\", \"L3\", \"L5\", \"L4\", \"R3\", \"L2\", \"L4\", \"L5\", \"L4\", \"R1\", \"L1\", \"R5\", \"L2\", \"R4\",    \n",
    "        \"R2\", \"R3\", \"L1\", \"L1\", \"L4\", \"L3\", \"R4\", \"L3\", \"L5\", \"R2\", \"L5\", \"L1\", \"L1\", \"R2\", \"R3\", \"L5\", \"L3\", \"L2\", \"L1\", \"L4\", \"R4\", \"R4\", \"L2\", \"R3\", \"R1\", \"L2\", \"R1\", \"L2\",\n",
    "        \"L2\", \"R3\", \"R3\", \"L1\", \"R4\", \"L5\", \"L3\", \"R4\", \"R4\", \"R1\", \"L2\", \"L5\", \"L3\", \"R1\", \"R4\", \"L2\", \"R5\", \"R4\", \"R2\", \"L5\", \"L3\", \"R4\", \"R1\", \"L1\", \"R5\", \"L3\", \"R1\", \"R5\",\n",
    "        \"L2\", \"R1\", \"L5\", \"L2\", \"R2\", \"L2\", \"L3\", \"R3\", \"R3\", \"R1\"]\n",
    "import pandas as pd\n",
    "import numpy as np\n",
    "import matplotlib.pyplot as plt\n",
    "plt.style.use('ggplot')\n",
    "%matplotlib inline"
   ]
  },
  {
   "cell_type": "code",
   "execution_count": 27,
   "id": "8d9300f1",
   "metadata": {},
   "outputs": [
    {
     "ename": "AttributeError",
     "evalue": "'str' object has no attribute 'value_counts'",
     "output_type": "error",
     "traceback": [
      "\u001b[1;31m---------------------------------------------------------------------------\u001b[0m",
      "\u001b[1;31mAttributeError\u001b[0m                            Traceback (most recent call last)",
      "Input \u001b[1;32mIn [27]\u001b[0m, in \u001b[0;36m<cell line: 1>\u001b[1;34m()\u001b[0m\n\u001b[1;32m----> 1\u001b[0m \u001b[43mdirections\u001b[49m\u001b[43m[\u001b[49m\u001b[38;5;241;43m0\u001b[39;49m\u001b[43m]\u001b[49m\u001b[43m[\u001b[49m\u001b[38;5;241;43m0\u001b[39;49m\u001b[43m]\u001b[49m\u001b[38;5;241;43m.\u001b[39;49m\u001b[43mvalue_counts\u001b[49m()\n",
      "\u001b[1;31mAttributeError\u001b[0m: 'str' object has no attribute 'value_counts'"
     ]
    }
   ],
   "source": [
    "directions[0][0].value_counts()"
   ]
  },
  {
   "cell_type": "code",
   "execution_count": null,
   "id": "9cfce8da",
   "metadata": {},
   "outputs": [],
   "source": []
  }
 ],
 "metadata": {
  "kernelspec": {
   "display_name": "Python 3 (ipykernel)",
   "language": "python",
   "name": "python3"
  },
  "language_info": {
   "codemirror_mode": {
    "name": "ipython",
    "version": 3
   },
   "file_extension": ".py",
   "mimetype": "text/x-python",
   "name": "python",
   "nbconvert_exporter": "python",
   "pygments_lexer": "ipython3",
   "version": "3.9.12"
  }
 },
 "nbformat": 4,
 "nbformat_minor": 5
}
